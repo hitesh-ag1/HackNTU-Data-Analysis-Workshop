{
 "cells": [
  {
   "cell_type": "markdown",
   "metadata": {},
   "source": [
    "<h1 align='center'> Exploratory Data Analysis (EDA) </h1>"
   ]
  },
  {
   "cell_type": "markdown",
   "metadata": {},
   "source": [
    "Dataset - Annual data of the number of registered health personnels in Singapore. This dataset is available at <a href=\"https://www.tablebuilder.singstat.gov.sg/publicfacing/createDataTable.action?refId=15173\">singstat.gov.sg</a>. \n",
    "\n",
    "<h3 align='center'>Let's get started!</h3>"
   ]
  },
  {
   "cell_type": "code",
   "execution_count": null,
   "metadata": {},
   "outputs": [],
   "source": [
    "#Importing libraries\n",
    "import pandas as pd\n",
    "import numpy as np\n",
    "import matplotlib.pyplot as plt\n",
    "import seaborn as sb"
   ]
  },
  {
   "cell_type": "markdown",
   "metadata": {},
   "source": [
    "Assuming that the dataset has been downloaded in the same directory as this ipython file, let's see how to import the dataset. Pandas can read and import multiple file formats including csv, xls and json into Python. It can also read datasets directly from the internet using the website link. As the dataset we are using is stored in a csv file format, let's see how to import it:"
   ]
  },
  {
   "cell_type": "code",
   "execution_count": null,
   "metadata": {},
   "outputs": [],
   "source": [
    "#Usage of <TAB>\n",
    "url='https://raw.githubusercontent.com/hiteshsdata/HackNTU-Data-Analysis-Workshop/master/reg_health.csv'\n",
    "doc = pd.read_csv(url)\n",
    "doc.head()"
   ]
  },
  {
   "cell_type": "markdown",
   "metadata": {},
   "source": [
    "Before moving forward, it is very important to understand what the values in the dataset represent. In the above table, it can be clearly seen that for every year the number of different registered health specialists are noted. In this case it isn't very difficult to understand the data as it is very small, however, when datasets get larger and the number of variables increase, understanding the data can sometimes become complicated. In the above data table, the variables are in the y-axis and the years are in the x-axis. Due to this, even for a single year, values for all the variables cannot be seen. First of all, let's see how many variables are there in total."
   ]
  },
  {
   "cell_type": "code",
   "execution_count": null,
   "metadata": {},
   "outputs": [],
   "source": [
    "doc.shape"
   ]
  },
  {
   "cell_type": "markdown",
   "metadata": {},
   "source": [
    "Next, let's interchange the rows and columns with each other as we want the variables to be on the x-axis and the timeline to be on the y-axis. There is a direct in-built pandas function for this."
   ]
  },
  {
   "cell_type": "code",
   "execution_count": null,
   "metadata": {},
   "outputs": [],
   "source": [
    "#T stands for transpose here. Transposition is a mathematical operation. It reflects a matrice over its diagonal\n",
    "#Usage of <?>\n",
    "doc = doc.T\n",
    "doc.head()"
   ]
  },
  {
   "cell_type": "markdown",
   "metadata": {},
   "source": [
    "Now the rows and columns have been interchanged, however the column names for the dataframe is still numerical as can be seen by the bold letters. Thus, let's change the column names to the Variables."
   ]
  },
  {
   "cell_type": "code",
   "execution_count": null,
   "metadata": {},
   "outputs": [],
   "source": [
    "#show previous column names\n",
    "#Explain different ways of accessing the values in the database (.loc, .iloc, direct access)\n",
    "#doc.columns\n",
    "#.loc is used for accessing data by the index and column names\n",
    "# The labels that have been given to the index and column arrays have to be used. Row,column\n",
    "#doc.loc['Variables':'1980',0]\n",
    "#doc.loc['Variables':'1980'][0]\n",
    "#.iloc is used to access data using integer positions. Row,column\n",
    "#doc.iloc[0][1]\n",
    "#Direct access - Column, row\n",
    "#doc[0]['1960']"
   ]
  },
  {
   "cell_type": "code",
   "execution_count": null,
   "metadata": {},
   "outputs": [],
   "source": [
    "doc.columns = doc.loc['Variables']\n",
    "doc.drop(\"Variables\",axis=0,inplace=True)\n",
    "doc.head()"
   ]
  },
  {
   "cell_type": "markdown",
   "metadata": {},
   "source": [
    "Next let's check if the values in the dataframe is in the correct format. For all the years shown in the above dataframe, there is only one value \"na.\" \"na\" stands for not a number and means that the data is missing. It is also referred to as the null value or NaN. This missing value is a data type in numpy."
   ]
  },
  {
   "cell_type": "code",
   "execution_count": null,
   "metadata": {},
   "outputs": [],
   "source": [
    "#a=None\n",
    "#b=np.nan\n",
    "#print (a,b)\n",
    "#print ((3+a),(5*b))\n",
    "#print(type(a),type(b))\n",
    "#Some useful builtin pandas features for handling missing data are: isnull(), notnull(), dropna(), fillna()"
   ]
  },
  {
   "cell_type": "markdown",
   "metadata": {},
   "source": [
    "Let's see what type of missing value is there in this dataframe."
   ]
  },
  {
   "cell_type": "code",
   "execution_count": null,
   "metadata": {},
   "outputs": [],
   "source": [
    "doc.iloc[0][0]"
   ]
  },
  {
   "cell_type": "markdown",
   "metadata": {},
   "source": [
    "In this dataframe, the nan's are simply string values and not None or np.nan. Now let's look at our DataFrame more closely to decide what to do with the value of nan."
   ]
  },
  {
   "cell_type": "code",
   "execution_count": null,
   "metadata": {},
   "outputs": [],
   "source": [
    "doc"
   ]
  },
  {
   "cell_type": "markdown",
   "metadata": {},
   "source": [
    "It can clearly be seen from this dataframe that as soon as number appears in a variable then there is no nan for the following years. This means that nan basically means that there were no registrations made for that health personnel in that year. Hence we will replace it with 0."
   ]
  },
  {
   "cell_type": "code",
   "execution_count": null,
   "metadata": {},
   "outputs": [],
   "source": [
    "doc.replace(to_replace=' na ',value=0,inplace=True)"
   ]
  },
  {
   "cell_type": "code",
   "execution_count": null,
   "metadata": {},
   "outputs": [],
   "source": [
    "doc"
   ]
  },
  {
   "cell_type": "markdown",
   "metadata": {},
   "source": [
    "All the variables have a zero value until the year 1985, hence it doesn't makes sense to keep all that data. Let's remove all the years before 1985."
   ]
  },
  {
   "cell_type": "code",
   "execution_count": null,
   "metadata": {},
   "outputs": [],
   "source": [
    "doc.drop(['1960', '1961', '1962', '1963', '1964', '1965', '1966', '1967', '1968',\n",
    "       '1969', '1970', '1971', '1972', '1973', '1974', '1975', '1976', '1977',\n",
    "       '1978', '1979', '1980', '1981', '1982', '1983', '1984'],axis=0,inplace=True)"
   ]
  },
  {
   "cell_type": "code",
   "execution_count": null,
   "metadata": {},
   "outputs": [],
   "source": [
    "doc"
   ]
  },
  {
   "cell_type": "markdown",
   "metadata": {},
   "source": [
    "Now let's see the data type for each column. Although we can see that all are numbers, however in order to process them they need to be in int data type"
   ]
  },
  {
   "cell_type": "code",
   "execution_count": null,
   "metadata": {},
   "outputs": [],
   "source": [
    "doc.dtypes"
   ]
  },
  {
   "cell_type": "markdown",
   "metadata": {},
   "source": [
    "All the data stored in each column is a Pandas object which in python data type is string."
   ]
  },
  {
   "cell_type": "code",
   "execution_count": null,
   "metadata": {},
   "outputs": [],
   "source": [
    "doc.iloc[0,0]"
   ]
  },
  {
   "cell_type": "markdown",
   "metadata": {},
   "source": [
    "Thus, let's convert all the string values to int. However, in the dataframe, it can be seen that the strings have commas in between them, thus they cannot be convert directly using int. All the commas have to be removed first. For this we, use the built in function replace. However, for replace only takes strings as inputs. However it is possible that some values might be int. Let's check this."
   ]
  },
  {
   "cell_type": "code",
   "execution_count": null,
   "metadata": {},
   "outputs": [],
   "source": [
    "doc.iloc[0,1]"
   ]
  },
  {
   "cell_type": "markdown",
   "metadata": {},
   "source": [
    "This is an integer value which we replaced instead of nan. So either we change that 0 to '0' in the previous function or we convert all the values in the dataframe to string again. Apart from the 0, no other value can be int as all have commas. Thus let's convert all the values to string."
   ]
  },
  {
   "cell_type": "code",
   "execution_count": null,
   "metadata": {},
   "outputs": [],
   "source": [
    "for j in (range(len(doc.columns))):\n",
    "    for i in range(len(doc)):\n",
    "        doc.iloc[i,j]=str(doc.iloc[i,j])"
   ]
  },
  {
   "cell_type": "code",
   "execution_count": null,
   "metadata": {},
   "outputs": [],
   "source": [
    "for j in (range(len(doc.columns))):\n",
    "    for i in range(len(doc)):\n",
    "        doc.iloc[i,j]=int(doc.iloc[i,j].replace(',',''))"
   ]
  },
  {
   "cell_type": "markdown",
   "metadata": {},
   "source": [
    "After all the individual elements have been converted to int, the dataframe also has to be converted into int. If we had done this before converting individual values to integer, it would have thrown an error."
   ]
  },
  {
   "cell_type": "code",
   "execution_count": null,
   "metadata": {},
   "outputs": [],
   "source": [
    "doc = doc.astype(int)"
   ]
  },
  {
   "cell_type": "code",
   "execution_count": null,
   "metadata": {},
   "outputs": [],
   "source": [
    "doc.dtypes"
   ]
  },
  {
   "cell_type": "markdown",
   "metadata": {},
   "source": [
    "Once data cleaning is done, it is time to form questions and hypothesis about the data which will be tested in this data analysis. After all, this is the main aim of EDA.\n",
    "\n",
    "<b>\n",
    "1. Is the rate at which doctors are increasing constant, increasing or decreasing?<br>\n",
    "2. In 2017, which health personnel is present in the highest proportion?<br>\n",
    "3. Which health personnel is increasing at the maximum rate in the year 2017?<br>\n",
    "4. Does the increase in the number of doctors have a strong correlation with the increase in registered nurses?<br>\n",
    "    </b>"
   ]
  },
  {
   "cell_type": "markdown",
   "metadata": {},
   "source": [
    "The describe function is a very useful command of Pandas. It gives a range of statsitical calulations on each of the variables like the quartlies, maximum, minimum, standard deviation and mean."
   ]
  },
  {
   "cell_type": "code",
   "execution_count": null,
   "metadata": {},
   "outputs": [],
   "source": [
    "doc.describe()"
   ]
  },
  {
   "cell_type": "code",
   "execution_count": null,
   "metadata": {},
   "outputs": [],
   "source": [
    "doc['Doctors '][0]"
   ]
  },
  {
   "cell_type": "markdown",
   "metadata": {},
   "source": [
    "Thus let's start with the first question. To check the rate of increase of doctors, let us first compute a mathematical function which will give the rate of increase."
   ]
  },
  {
   "cell_type": "code",
   "execution_count": null,
   "metadata": {},
   "outputs": [],
   "source": [
    "def growth_rate(variable_name):\n",
    "    inc = [0]\n",
    "    for i in range(1,len(doc)):\n",
    "        inc.append((doc[variable_name][i]-doc[variable_name][i-1])/doc[variable_name][i-1])\n",
    "    doc[(variable_name+\"Growth Rate\")] = inc"
   ]
  },
  {
   "cell_type": "code",
   "execution_count": null,
   "metadata": {},
   "outputs": [],
   "source": [
    "growth_rate(\"Doctors \")"
   ]
  },
  {
   "cell_type": "code",
   "execution_count": null,
   "metadata": {},
   "outputs": [],
   "source": [
    "doc.head()"
   ]
  },
  {
   "cell_type": "code",
   "execution_count": null,
   "metadata": {},
   "outputs": [],
   "source": [
    "f,ax = plt.subplots(1,1,figsize=(16,8))\n",
    "sb.barplot(y=doc[\"Doctors Growth Rate\"],x=doc.index,palette = 'husl',ax=ax)"
   ]
  },
  {
   "cell_type": "markdown",
   "metadata": {},
   "source": [
    "Hence for Question 1, no such thing can be said as data is increasing and decreasing both. However if we decrease our domain to only 4 years, then we can say that the number of doctors are increasing at a decreasing rate as the last four bars are decreasing."
   ]
  },
  {
   "cell_type": "markdown",
   "metadata": {},
   "source": [
    "For solving question 2, a pie chart can be drawn to view the proportion of each health personnel."
   ]
  },
  {
   "cell_type": "code",
   "execution_count": null,
   "metadata": {},
   "outputs": [],
   "source": [
    "doc.loc['2017'].plot(kind = 'pie', fontsize = 0, title='Number of health personnels',\n",
    "                       autopct='%1.1f%%',figsize=(8,8))\n",
    "plt.legend(labels=['Doctors','Specialists Doctors','Non-specialists Doctors','Dentists','Pharmacists','Registered Nurses','Enrolled Nurses','Advanced Practice Nurses'], loc=\"best\")\n",
    "plt.tight_layout()"
   ]
  },
  {
   "cell_type": "markdown",
   "metadata": {},
   "source": [
    "Thus registered nurses are present in the highest proportion in 2017"
   ]
  },
  {
   "cell_type": "markdown",
   "metadata": {},
   "source": [
    "For the next question which is \"Which health personnel is increasing at the maximum rate?\", growth rate for all variables have to be calculated using the function defined before."
   ]
  },
  {
   "cell_type": "code",
   "execution_count": null,
   "metadata": {},
   "outputs": [],
   "source": [
    "doc.columns"
   ]
  },
  {
   "cell_type": "code",
   "execution_count": null,
   "metadata": {},
   "outputs": [],
   "source": [
    "growth_rate(\"Specialists Doctors \")\n",
    "growth_rate(\"Non-specialists Doctors \")\n",
    "growth_rate(\"Dentists \")\n",
    "growth_rate(\"Pharmacists \")\n",
    "growth_rate(\"Registered Nurses \")\n",
    "growth_rate(\"Enrolled Nurses \")\n",
    "growth_rate(\"Advanced Practice Nurses \")"
   ]
  },
  {
   "cell_type": "code",
   "execution_count": null,
   "metadata": {},
   "outputs": [],
   "source": [
    "doc.columns[8:]"
   ]
  },
  {
   "cell_type": "code",
   "execution_count": null,
   "metadata": {},
   "outputs": [],
   "source": [
    "f,ax = plt.subplots(1,1,figsize=(26,14))\n",
    "sb.barplot(y=doc.loc['2017']['Doctors Growth Rate': 'Advanced Practice Nurses Growth Rate'],x=doc.columns[8:],palette = 'husl',ax=ax)"
   ]
  },
  {
   "cell_type": "markdown",
   "metadata": {},
   "source": [
    "Thus from this graph, it can clearly be seen that advanced practice nurses had the highest growth rate in 2017."
   ]
  },
  {
   "cell_type": "markdown",
   "metadata": {},
   "source": [
    "For the fourth question, plotting the graph for all the variables with each other is easier than plotting individually for Doctors and Nurses. Hence we will find the correlation for all the variables with each other."
   ]
  },
  {
   "cell_type": "code",
   "execution_count": null,
   "metadata": {},
   "outputs": [],
   "source": [
    "doc.drop(['Doctors Growth Rate', 'Specialists Doctors Growth Rate',\n",
    "       'Non-specialists Doctors Growth Rate', 'Dentists Growth Rate',\n",
    "       'Pharmacists Growth Rate', 'Registered Nurses Growth Rate',\n",
    "       'Enrolled Nurses Growth Rate', 'Advanced Practice Nurses Growth Rate'],axis=1,inplace=True)"
   ]
  },
  {
   "cell_type": "code",
   "execution_count": null,
   "metadata": {},
   "outputs": [],
   "source": [
    "sb.pairplot(data=doc)"
   ]
  },
  {
   "cell_type": "markdown",
   "metadata": {},
   "source": [
    "These graphs are very useful. They show how each variable varies with another variable. There are many linear relationships that can be identified. The graph for doctors and registered nurses is almost a straight line. Hence it tells that there is a strong correlation between them. Let's calculate the value for correlation and display it on a heatmap."
   ]
  },
  {
   "cell_type": "code",
   "execution_count": null,
   "metadata": {},
   "outputs": [],
   "source": [
    "f, axes = plt.subplots(1, 1, figsize=(20, 20))\n",
    "sb.heatmap(doc.corr(), vmin = -1, vmax = 1, linewidths = 3,\n",
    "           annot = True, fmt = \".4f\", annot_kws = {\"size\": 20}, cmap = \"RdBu\")"
   ]
  },
  {
   "cell_type": "markdown",
   "metadata": {},
   "source": [
    "Hence, from this heatmap it can clearly be seen that Doctors and Registered Nurses have a correlation of 0.9974."
   ]
  }
 ],
 "metadata": {
  "kernelspec": {
   "display_name": "Python 3",
   "language": "python",
   "name": "python3"
  },
  "language_info": {
   "codemirror_mode": {
    "name": "ipython",
    "version": 3
   },
   "file_extension": ".py",
   "mimetype": "text/x-python",
   "name": "python",
   "nbconvert_exporter": "python",
   "pygments_lexer": "ipython3",
   "version": "3.5.6"
  }
 },
 "nbformat": 4,
 "nbformat_minor": 2
}
